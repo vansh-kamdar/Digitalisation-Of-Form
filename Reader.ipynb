{
  "nbformat": 4,
  "nbformat_minor": 0,
  "metadata": {
    "colab": {
      "name": "Reader.ipynb",
      "provenance": [],
      "collapsed_sections": [],
      "authorship_tag": "ABX9TyOnX7OV60gQ0BTDp33P32Ta",
      "include_colab_link": true
    },
    "kernelspec": {
      "name": "python3",
      "display_name": "Python 3"
    }
  },
  "cells": [
    {
      "cell_type": "markdown",
      "metadata": {
        "id": "view-in-github",
        "colab_type": "text"
      },
      "source": [
        "<a href=\"https://colab.research.google.com/github/vansh-kamdar/Digitalisation-Of-Form/blob/master/Reader.ipynb\" target=\"_parent\"><img src=\"https://colab.research.google.com/assets/colab-badge.svg\" alt=\"Open In Colab\"/></a>"
      ]
    },
    {
      "cell_type": "code",
      "metadata": {
        "id": "g2LD33dGp1KS",
        "colab_type": "code",
        "colab": {}
      },
      "source": [
        "!sudo apt install tesseract-ocr\n",
        "!pip install pytesseract"
      ],
      "execution_count": 0,
      "outputs": []
    },
    {
      "cell_type": "code",
      "metadata": {
        "id": "xZnpDS7pp2cD",
        "colab_type": "code",
        "colab": {}
      },
      "source": [
        "import pytesseract\n",
        "import shutil\n",
        "import os\n",
        "import random\n",
        "try:\n",
        " from PIL import Image\n",
        "except ImportError:\n",
        " import Image"
      ],
      "execution_count": 0,
      "outputs": []
    },
    {
      "cell_type": "code",
      "metadata": {
        "id": "F6xPQrwPp4_v",
        "colab_type": "code",
        "colab": {}
      },
      "source": [
        "from google.colab import files\n",
        "uploaded = files.upload()"
      ],
      "execution_count": 0,
      "outputs": []
    },
    {
      "cell_type": "code",
      "metadata": {
        "id": "F2C7piw7rBr5",
        "colab_type": "code",
        "colab": {}
      },
      "source": [
        "#1st Method\n",
        "# e = pytesseract.image_to_string(Image.open('10.jpg'))\n",
        "\n",
        "#2nd Method\n",
        "import cv2\n",
        "import numpy as np\n",
        "import pytesseract\n",
        "from PIL import Image\n",
        "\n",
        "# Path of working folder on Disk\n",
        "# src_path = \"C:/USER\"\n",
        "\n",
        "def get_string(img_path):\n",
        "    # Read image with opencv\n",
        "    img = cv2.imread(img_path)\n",
        "\n",
        "    # Convert to gray\n",
        "    img = cv2.cvtColor(img, cv2.COLOR_BGR2GRAY)\n",
        "\n",
        "    # Apply dilation and erosion to remove some noise\n",
        "    kernel = np.ones((1, 1), np.uint8)\n",
        "    img = cv2.dilate(img, kernel, iterations=1)\n",
        "    img = cv2.erode(img, kernel, iterations=1)\n",
        "\n",
        "    # Write image after removed noise\n",
        "    cv2.imwrite(\"/content/10.jpg\", img)\n",
        "\n",
        "    #  Apply threshold to get image with only black and white\n",
        "    #img = cv2.adaptiveThreshold(img, 255, cv2.ADAPTIVE_THRESH_GAUSSIAN_C, cv2.THRESH_BINARY, 31, 2)\n",
        "\n",
        "    # Write the image after apply opencv to do some ...\n",
        "    cv2.imwrite(\"/content/10.jpg\", img)\n",
        "\n",
        "    # Recognize text with tesseract for python\n",
        "    result = pytesseract.image_to_string(Image.open(\"/content/10.jpg\"))\n",
        "\n",
        "    # Remove template file\n",
        "    #os.remove(temp)\n",
        "\n",
        "    return result\n",
        "print (get_string(\"/content/10.jpg\"))\n"
      ],
      "execution_count": 0,
      "outputs": []
    },
    {
      "cell_type": "code",
      "metadata": {
        "id": "qSyVBIrorDPJ",
        "colab_type": "code",
        "colab": {}
      },
      "source": [
        "# type(extractedInformation)\n",
        "s=e.strip().split(\"\\n\")\n",
        "file2 = open(r\"/content/f5.txt\",\"w+\") \n",
        "# print(e)\n",
        "x=[]\n",
        "for word in s:\n",
        "  if(word!=\"\"):\n",
        "    if(word==\"Female\"):\n",
        "      continue\n",
        "    if(word==\"Gender Male\"):\n",
        "      word=\"Gender\"\n",
        "    file2.write('%s\\n' % word)\n",
        "    # file2.write(\\n)\n",
        "    # print(word)\n",
        "file2.close() "
      ],
      "execution_count": 0,
      "outputs": []
    },
    {
      "cell_type": "code",
      "metadata": {
        "id": "LEzHHif0z8qs",
        "colab_type": "code",
        "colab": {}
      },
      "source": [
        "# from tkinter import * \n",
        "# from tkinter.ttk import *\n",
        "  \n",
        "# # creating tkinter window \n",
        "# root = Tk() \n",
        "  \n",
        "# # Adding widgets to the root window \n",
        "# Label(root, text = 'GeeksforGeeks', font =( \n",
        "#   'Verdana', 15)).pack(side = TOP, pady = 10) \n",
        "  \n",
        "# # Creating a photoimage object to use image \n",
        "# photo = PhotoImage(file = r\"/content/10.jpg\") \n",
        "  \n",
        "# # Resizing image to fit on button \n",
        "# photoimage = photo.subsample(3, 3) \n",
        "  \n",
        "# # here, image option is used to \n",
        "# # set image on button \n",
        "# # compound option is used to align \n",
        "# # image on LEFT side of button \n",
        "# Button(root, text = 'Click Me !', image = photoimage, \n",
        "#                     compound = LEFT).pack(side = TOP) \n",
        "  \n",
        "# mainloop()"
      ],
      "execution_count": 0,
      "outputs": []
    }
  ]
}